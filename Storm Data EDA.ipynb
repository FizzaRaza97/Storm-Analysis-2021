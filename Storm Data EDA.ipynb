{
 "cells": [
  {
   "cell_type": "code",
   "execution_count": null,
   "id": "06b8735d",
   "metadata": {},
   "outputs": [],
   "source": [
    "import pandas as pd\n",
    "import matplotlib as mp\n",
    "import matplotlib.pyplot as plt\n",
    "import seaborn as sns\n",
    "import numpy as np\n",
    "import re\n",
    "from scipy.stats import spearmanr, pearsonr\n",
    "import geopandas as gp\n",
    "from shapely import wkt\n",
    "from matplotlib.colors import ListedColormap\n",
    "import math\n",
    "from colorsys import hls_to_rgb\n",
    "import folium\n",
    "\n",
    "# import geoplot"
   ]
  },
  {
   "cell_type": "code",
   "execution_count": null,
   "id": "8b8ebd07",
   "metadata": {},
   "outputs": [],
   "source": [
    "from IPython.display import Markdown as md"
   ]
  },
  {
   "cell_type": "code",
   "execution_count": null,
   "id": "1d5356da",
   "metadata": {},
   "outputs": [],
   "source": [
    "mp.rcParams.update({'font.size': 19})\n",
    "pd.set_option('display.float_format', lambda x: '%.2f' % x)"
   ]
  },
  {
   "cell_type": "markdown",
   "id": "6aa7ac7b",
   "metadata": {},
   "source": [
    "# Read Data "
   ]
  },
  {
   "cell_type": "code",
   "execution_count": null,
   "id": "d8193eef",
   "metadata": {},
   "outputs": [],
   "source": [
    "data_dir = \"data/\" "
   ]
  },
  {
   "cell_type": "code",
   "execution_count": null,
   "id": "e4f89a35",
   "metadata": {},
   "outputs": [],
   "source": [
    "fp_forecast_regions = data_dir+\"nws_forecast_regions.csv\"\n",
    "fp_tornado_paths = data_dir+\"tornado_paths.csv\"\n",
    "fp_storms_2021 = data_dir+\"storms_2021.csv\""
   ]
  },
  {
   "cell_type": "code",
   "execution_count": null,
   "id": "c11bc578",
   "metadata": {},
   "outputs": [],
   "source": [
    "forecast_regions = gp.read_file(fp_forecast_regions, index_col=0, ignore_geometry=True)\n",
    "tornado_paths = pd.read_csv(fp_tornado_paths, index_col=0)"
   ]
  },
  {
   "cell_type": "code",
   "execution_count": null,
   "id": "283b2cf3",
   "metadata": {},
   "outputs": [],
   "source": [
    "fp_counties = data_dir+\"counties/c_22mr22.dbf\"\n",
    "counties = gp.read_file(fp_counties, ignore_geometry=False)"
   ]
  },
  {
   "cell_type": "code",
   "execution_count": null,
   "id": "2fb7d7fc",
   "metadata": {},
   "outputs": [],
   "source": [
    "storms_2021 = pd.read_csv(fp_storms_2021, index_col=0)"
   ]
  },
  {
   "cell_type": "code",
   "execution_count": null,
   "id": "f8a28bc2",
   "metadata": {},
   "outputs": [],
   "source": [
    "tornado_paths.head()"
   ]
  },
  {
   "cell_type": "code",
   "execution_count": null,
   "id": "5804d827",
   "metadata": {},
   "outputs": [],
   "source": [
    "pd.set_option('display.max_columns', None)\n",
    "storms_2021.head()"
   ]
  },
  {
   "cell_type": "code",
   "execution_count": null,
   "id": "ce7d5247",
   "metadata": {},
   "outputs": [],
   "source": [
    "forecast_regions.head()"
   ]
  },
  {
   "cell_type": "code",
   "execution_count": null,
   "id": "5d9351b0",
   "metadata": {},
   "outputs": [],
   "source": [
    "counties.head()"
   ]
  },
  {
   "cell_type": "code",
   "execution_count": null,
   "id": "b06be747",
   "metadata": {},
   "outputs": [],
   "source": [
    "storms_2021.shape"
   ]
  },
  {
   "cell_type": "code",
   "execution_count": null,
   "id": "70832859",
   "metadata": {},
   "outputs": [],
   "source": [
    "states = {\"AL\":\"Alabama\",\"AK\":\"Alaska\", \"AS\":\"American samoa\",\"AZ\":\"Arizona\",\"AR\":\"Arkansas\",\n",
    "          \"CA\":\"California\",\"CO\":\"Colorado\",\"CT\":\"Connecticut\",\n",
    "          \"DE\":\"Delaware\", \"DC\": \"District of Columbia\",\n",
    "          \"FL\":\"Florida\", \"FM\": \"Micronesia\",\n",
    "          \"GA\":\"Georgia\", \"GU\":\"Guam\",\n",
    "          \"HI\":\"Hawaii\",\n",
    "          \"ID\":\"Idaho\",\"IL\":\"Illinois\",\"IN\":\"Indiana\",\"IA\":\"Iowa\",\n",
    "          \"KS\":\"Kansas\",\"KY\":\"Kentucky\",\n",
    "          \"LA\":\"Louisiana\",\n",
    "          \"ME\":\"Maine\",\"MD\":\"Maryland\",\"MA\":\"Massachusetts\",\n",
    "          \"MI\":\"Michigan\",\"MN\":\"Minnesota\",\"MS\":\"Mississippi\",\"MO\":\"Missouri\",\n",
    "          \"MT\":\"Montana\", \"MH\":\"Marshall Islands\", \"MP\": \"Northern Marina Islands\",\n",
    "\n",
    "          \"NE\":\"Nebraska\",\"NV\":\"Nevada\",\"NH\":\"New hampshire\",\"NJ\":\"New jersey\",\"NM\":\"New mexico\",\n",
    "          \"NY\":\"New york\",\"NC\":\"North carolina\",\"ND\":\"North dakota\",\n",
    "          \"OH\":\"Ohio\",\"OK\":\"Oklahoma\",\"OR\":\"Oregon\",\n",
    "          \"PA\":\"Pennsylvania\", \"PR\":\"Puerto rico\", \"PW\":\"Palau\",\n",
    "          \"RI\":\"Rhode island\",\n",
    "          \"SC\":\"South carolina\",\"SD\":\"South dakota\",\n",
    "          \"TN\":\"Tennessee\",\"TX\":\"Texas\",\n",
    "          \"UT\":\"Utah\",\n",
    "          \"VT\":\"Vermont\",\"VA\":\"Virginia\",\"VI\":\"Virgin islands\",\n",
    "          \"WA\":\"Washington\",\"WV\":\"West virginia\",\"WI\":\"Wisconsin\",\"WY\":\"Wyoming\"}"
   ]
  },
  {
   "cell_type": "code",
   "execution_count": null,
   "id": "19c1c77a",
   "metadata": {},
   "outputs": [],
   "source": [
    "storms_states = storms_2021[\"state\"].unique()"
   ]
  },
  {
   "cell_type": "code",
   "execution_count": null,
   "id": "ffd046ce",
   "metadata": {},
   "outputs": [],
   "source": [
    "forecast_states = [states[x].lower() for x in forecast_regions[\"state\"].unique()]\n",
    "len(np.sort(forecast_states))"
   ]
  },
  {
   "cell_type": "code",
   "execution_count": null,
   "id": "63877bf5",
   "metadata": {},
   "outputs": [],
   "source": [
    "excluded = []\n",
    "for s in storms_2021[\"state\"].unique():\n",
    "    if s.strip().lower() not in forecast_states:\n",
    "        print(s.lower())\n",
    "        excluded.append(s)"
   ]
  },
  {
   "cell_type": "markdown",
   "id": "60b37c63",
   "metadata": {},
   "source": [
    "# Preprocessing Data"
   ]
  },
  {
   "cell_type": "code",
   "execution_count": null,
   "id": "a035789e",
   "metadata": {},
   "outputs": [],
   "source": [
    "counties.rename(columns={\n",
    "    \"STATE\": \"state\",\n",
    "    \"CWA\": \"cwa\",\n",
    "    \"TIME_ZONE\": \"time_zone\",\n",
    "    \"FIPS\": \"zone\",\n",
    "    \"COUNTYNAME\": \"name\",\n",
    "    \"FE_AREA\": \"fe_area\",\n",
    "    \"LON\": \"lon\",\n",
    "    \"LAT\": \"lat\",\n",
    "    \"geometry\": \"shape_geometry\"\n",
    "}, inplace=True)"
   ]
  },
  {
   "cell_type": "code",
   "execution_count": null,
   "id": "937c60bb",
   "metadata": {},
   "outputs": [],
   "source": [
    "counties[\"zone\"] = counties[\"zone\"].apply(lambda x:x[-3:])"
   ]
  },
  {
   "cell_type": "code",
   "execution_count": null,
   "id": "391a4c57",
   "metadata": {},
   "outputs": [],
   "source": [
    "counties[\"type\"] = \"C\""
   ]
  },
  {
   "cell_type": "code",
   "execution_count": null,
   "id": "b76d52c5",
   "metadata": {},
   "outputs": [],
   "source": [
    "counties.head()"
   ]
  },
  {
   "cell_type": "code",
   "execution_count": null,
   "id": "894242fe",
   "metadata": {},
   "outputs": [],
   "source": [
    "counties.shape"
   ]
  },
  {
   "cell_type": "markdown",
   "id": "bbc8ea8e",
   "metadata": {},
   "source": [
    "## Forecast Regions"
   ]
  },
  {
   "cell_type": "code",
   "execution_count": null,
   "id": "bd047052",
   "metadata": {},
   "outputs": [],
   "source": [
    "forecast_regions[\"type\"] = \"Z\""
   ]
  },
  {
   "cell_type": "code",
   "execution_count": null,
   "id": "4655aaa7",
   "metadata": {},
   "outputs": [],
   "source": [
    "forecast_regions.shape"
   ]
  },
  {
   "cell_type": "code",
   "execution_count": null,
   "id": "957d1a58",
   "metadata": {},
   "outputs": [],
   "source": [
    "forecast_regions['shape_geometry'] = forecast_regions['shape_geometry'].apply(wkt.loads)"
   ]
  },
  {
   "cell_type": "code",
   "execution_count": null,
   "id": "220f583c",
   "metadata": {},
   "outputs": [],
   "source": [
    "forecast_regions = pd.concat([forecast_regions, counties], join=\"inner\")"
   ]
  },
  {
   "cell_type": "code",
   "execution_count": null,
   "id": "331d90d9",
   "metadata": {},
   "outputs": [],
   "source": [
    "forecast_regions[\"zone\"] = forecast_regions[\"zone\"].astype(int)"
   ]
  },
  {
   "cell_type": "code",
   "execution_count": null,
   "id": "cc9178c4",
   "metadata": {},
   "outputs": [],
   "source": [
    "forecast_regions[\"state_name\"] = forecast_regions[\"state\"].apply(lambda x:states[x].lower())"
   ]
  },
  {
   "cell_type": "code",
   "execution_count": null,
   "id": "504b4608",
   "metadata": {},
   "outputs": [],
   "source": [
    "forecast_regions[\"name\"] = forecast_regions[\"name\"].apply(lambda x:x.lower())"
   ]
  },
  {
   "cell_type": "code",
   "execution_count": null,
   "id": "f3ef5385",
   "metadata": {},
   "outputs": [],
   "source": [
    "forecast_regions.head()"
   ]
  },
  {
   "cell_type": "code",
   "execution_count": null,
   "id": "971b9475",
   "metadata": {},
   "outputs": [],
   "source": [
    "forecast_regions.shape"
   ]
  },
  {
   "cell_type": "code",
   "execution_count": null,
   "id": "5f01a8d8",
   "metadata": {},
   "outputs": [],
   "source": [
    "forecast_regions.drop_duplicates(subset = [\"state\",\"cwa\",\"zone\",\"type\"], keep=\"first\",\n",
    "                                inplace=True)"
   ]
  },
  {
   "cell_type": "code",
   "execution_count": null,
   "id": "147c7829",
   "metadata": {},
   "outputs": [],
   "source": [
    "forecast_regions = forecast_regions.set_geometry(\"shape_geometry\")\n",
    "forecast_regions = forecast_regions.set_crs(\"EPSG:4326\")"
   ]
  },
  {
   "cell_type": "code",
   "execution_count": null,
   "id": "28aaca96",
   "metadata": {},
   "outputs": [],
   "source": [
    "forecast_regions.crs"
   ]
  },
  {
   "cell_type": "code",
   "execution_count": null,
   "id": "ec1d78fc",
   "metadata": {
    "scrolled": false
   },
   "outputs": [],
   "source": [
    "forecast_regions[forecast_regions[\"type\"] == \"C\"].explore(column=\"state\",legend=False)"
   ]
  },
  {
   "cell_type": "code",
   "execution_count": null,
   "id": "525df5fb",
   "metadata": {},
   "outputs": [],
   "source": [
    "forecast_regions[forecast_regions[\"type\"] == \"Z\"].explore(column=\"state\", legend=False)"
   ]
  },
  {
   "cell_type": "markdown",
   "id": "4571eaf1",
   "metadata": {},
   "source": [
    "## Handling Multiple Timezones in the Storm Data"
   ]
  },
  {
   "cell_type": "code",
   "execution_count": null,
   "id": "685cb295",
   "metadata": {},
   "outputs": [],
   "source": [
    "def convert_std_tz(tz):\n",
    "    tmp = re.sub(r'[A-Z]+','',tz)\n",
    "    res = tmp if tmp.startswith(\"-\") else \"+\"+tmp\n",
    "    return res"
   ]
  },
  {
   "cell_type": "code",
   "execution_count": null,
   "id": "a57954b9",
   "metadata": {},
   "outputs": [],
   "source": [
    "storms_2021[\"event_timezone\"] = storms_2021[\"event_timezone\"].apply(convert_std_tz)\n",
    "\n"
   ]
  },
  {
   "cell_type": "code",
   "execution_count": null,
   "id": "e1f74937",
   "metadata": {},
   "outputs": [],
   "source": [
    "storms_2021[\"event_begin_time_utc\"] = pd.to_datetime(\n",
    "    storms_2021[\"event_begin_time\"]+storms_2021[\"event_timezone\"],\n",
    "    utc=True)"
   ]
  },
  {
   "cell_type": "code",
   "execution_count": null,
   "id": "7aa5f62a",
   "metadata": {},
   "outputs": [],
   "source": [
    "storms_2021[\"event_end_time_utc\"] = pd.to_datetime(\n",
    "    storms_2021[\"event_end_time\"]+storms_2021[\"event_timezone\"],\n",
    "    utc=True)"
   ]
  },
  {
   "cell_type": "markdown",
   "id": "a0cd892e",
   "metadata": {},
   "source": [
    "## Other Preprocessing"
   ]
  },
  {
   "cell_type": "code",
   "execution_count": null,
   "id": "0d1f2410",
   "metadata": {},
   "outputs": [],
   "source": [
    "storms_2021[\"cz_name\"] = storms_2021[\"cz_name\"].apply(lambda x:x.lower())\n",
    "storms_2021[\"state\"] = storms_2021[\"state\"].apply(lambda x:x.lower())"
   ]
  },
  {
   "cell_type": "code",
   "execution_count": null,
   "id": "4e4784bb",
   "metadata": {
    "scrolled": true
   },
   "outputs": [],
   "source": [
    "storms_2021[\"event_duration\"] = storms_2021[\"event_end_time_utc\"] - storms_2021[\"event_begin_time_utc\"]\n",
    "storms_2021[\"event_duration\"] = storms_2021[\"event_duration\"]/pd.Timedelta(\"1 hour\")"
   ]
  },
  {
   "cell_type": "code",
   "execution_count": null,
   "id": "379fe5e8",
   "metadata": {},
   "outputs": [],
   "source": [
    "storms_2021[\"injuries_total\"] = storms_2021[\"injuries_direct\"]+storms_2021[\"injuries_indirect\"]\n",
    "storms_2021[\"deaths_total\"] = storms_2021[\"deaths_direct\"]+storms_2021[\"deaths_indirect\"]"
   ]
  },
  {
   "cell_type": "markdown",
   "id": "10aff97a",
   "metadata": {},
   "source": [
    "# Damage Analysis"
   ]
  },
  {
   "cell_type": "markdown",
   "id": "14420d51",
   "metadata": {},
   "source": [
    "The most important thing about a storm is the damage caused by it. Lets see if there is a correlation between the event duration and the number of casualties reported."
   ]
  },
  {
   "cell_type": "code",
   "execution_count": null,
   "id": "7efb022b",
   "metadata": {},
   "outputs": [],
   "source": [
    "storms_2021[\n",
    "    [\"injuries_direct\", \"injuries_indirect\",\n",
    "     \"deaths_direct\", \"deaths_indirect\", \n",
    "     \"damage_property\", \"damage_crops\"]\n",
    "].describe()"
   ]
  },
  {
   "cell_type": "markdown",
   "id": "d66f42e4",
   "metadata": {},
   "source": [
    "As can be seen from the summary statistics, the storms report no damage (human or material) up to the 75th percentile. Beyond the 75th percentile, they resulted in more material damage than human life."
   ]
  },
  {
   "cell_type": "code",
   "execution_count": null,
   "id": "8fa4383c",
   "metadata": {},
   "outputs": [],
   "source": [
    "storms_melt = pd.melt(storms_2021, id_vars = [\"event_type\", \"episode_id\", \"state\", \"event_duration\"], \n",
    "                  value_vars = [\"injuries_total\",\"deaths_total\"],\n",
    "                  ignore_index=False,\n",
    "                  var_name='casualty_type', value_name='value')"
   ]
  },
  {
   "cell_type": "code",
   "execution_count": null,
   "id": "00c5f194",
   "metadata": {},
   "outputs": [],
   "source": [
    "storms_melt = storms_melt[storms_melt[\"value\"] > 0]\n",
    "storms_melt.describe()"
   ]
  },
  {
   "cell_type": "code",
   "execution_count": null,
   "id": "764adbbb",
   "metadata": {},
   "outputs": [],
   "source": [
    "ax = sns.scatterplot(data=storms_melt,\n",
    "                     x=\"event_duration\",y=\"value\",hue=\"casualty_type\")\n",
    "ax.set_title(\"Event Duration Vs. Number of Casualties\")\n",
    "ax.set_ylim((1,100))\n",
    "plt.grid(color='grey', linestyle='--')\n",
    "fig = plt.gcf()\n",
    "fig.set_size_inches(15, 10)\n",
    "plt.show()"
   ]
  },
  {
   "cell_type": "markdown",
   "id": "f7fe51c9",
   "metadata": {},
   "source": [
    "Most storm events of 2021 reported no deaths. Let us take a closer look at the injuries reported."
   ]
  },
  {
   "cell_type": "code",
   "execution_count": null,
   "id": "ec49e0fb",
   "metadata": {},
   "outputs": [],
   "source": [
    "ax = sns.scatterplot(data=storms_2021,x=\"event_duration\",y=\"injuries_total\")\n",
    "ax.set_title(\"Event Duration Vs. Number of Injuries\")\n",
    "plt.grid(color='grey', linestyle='--')\n",
    "fig = plt.gcf()\n",
    "fig.set_size_inches(15, 10)\n",
    "plt.show()"
   ]
  },
  {
   "cell_type": "markdown",
   "id": "1f967084",
   "metadata": {},
   "source": [
    "Interestingly, the longest storms caused the least injuries. Let us look at the numerical correlation between these two variables."
   ]
  },
  {
   "cell_type": "code",
   "execution_count": null,
   "id": "686eeffc",
   "metadata": {},
   "outputs": [],
   "source": [
    "spearman_corr_coef = spearmanr(storms_2021[\"event_duration\"], storms_2021[\"injuries_total\"])\n",
    "spearman_corr_coef"
   ]
  },
  {
   "cell_type": "code",
   "execution_count": null,
   "id": "cd35216d",
   "metadata": {},
   "outputs": [],
   "source": [
    "spearman_corr_coef = spearmanr(storms_2021[\"event_duration\"], storms_2021[\"deaths_total\"])\n",
    "spearman_corr_coef"
   ]
  },
  {
   "cell_type": "markdown",
   "id": "02711d17",
   "metadata": {},
   "source": [
    "Lets now look at the damage caused to crops and property."
   ]
  },
  {
   "cell_type": "code",
   "execution_count": null,
   "id": "f5b3d9a9",
   "metadata": {},
   "outputs": [],
   "source": [
    "ax = sns.scatterplot(data=storms_2021,x=\"event_duration\",y=\"damage_property\")\n",
    "ax.set_title(\"Event Duration Vs. Property Damage\")\n",
    "plt.grid(color='grey', linestyle='--')\n",
    "fig = plt.gcf()\n",
    "fig.set_size_inches(15, 10)\n",
    "plt.show()"
   ]
  },
  {
   "cell_type": "markdown",
   "id": "6eea028e",
   "metadata": {},
   "source": [
    "# Analysis of Different Storm Types"
   ]
  },
  {
   "cell_type": "code",
   "execution_count": null,
   "id": "71c68568",
   "metadata": {},
   "outputs": [],
   "source": [
    "num_storm_types = len(storms_2021[\"event_type\"].unique())\n",
    "md(\"{} different types of storms were reported in 2021\".format(num_storm_types))"
   ]
  },
  {
   "cell_type": "code",
   "execution_count": null,
   "id": "222b04a0",
   "metadata": {},
   "outputs": [],
   "source": [
    "gb_atts = [\"event_type\",\"state\", \"event_begin_time_utc\",\"event_end_time_utc\"]\n",
    "atts = [\"episode_id\",\"event_type\",\"state\",\"cz_name\", \"event_begin_time_utc\", \"event_end_time_utc\",\n",
    "        \"injuries_direct\", \"injuries_indirect\", \"injuries_total\", \n",
    "        \"deaths_direct\",\"deaths_indirect\",\"deaths_total\",\n",
    "        \"damage_property\",\n",
    "       \"damage_crops\",\"event_duration\"]"
   ]
  },
  {
   "cell_type": "code",
   "execution_count": null,
   "id": "e06a6126",
   "metadata": {},
   "outputs": [],
   "source": [
    "gb = storms_2021[atts].groupby(gb_atts).agg({\n",
    "    \"episode_id\":lambda x:list(x.unique()),\n",
    "    \"cz_name\":lambda x:list(x.unique()),\n",
    "    \"injuries_direct\": lambda x:x.dropna().sum(),\n",
    "    \"injuries_indirect\": lambda x:x.dropna().sum(),\n",
    "    \"injuries_total\": lambda x:x.sum(),\n",
    "    \"deaths_direct\": lambda x:x.dropna().sum(),\n",
    "    \"deaths_indirect\": lambda x:x.dropna().sum(),\n",
    "    \"deaths_total\": lambda x:x.sum(),\n",
    "    \"damage_property\":lambda x:x.dropna().sum(),\n",
    "    \"damage_crops\": lambda x:x.dropna().sum(),\n",
    "#     \"event_end_time_utc\": lambda x:np.max(x),\n",
    "    \"event_duration\": lambda x: np.max(x)\n",
    "})"
   ]
  },
  {
   "cell_type": "code",
   "execution_count": null,
   "id": "0cc2e466",
   "metadata": {},
   "outputs": [],
   "source": [
    "gb.reset_index(inplace=True)"
   ]
  },
  {
   "cell_type": "code",
   "execution_count": null,
   "id": "123050f6",
   "metadata": {},
   "outputs": [],
   "source": [
    "gb.head()"
   ]
  },
  {
   "cell_type": "code",
   "execution_count": null,
   "id": "9d51d86f",
   "metadata": {},
   "outputs": [],
   "source": [
    "storms_2021[(storms_2021[\"event_type\"]==\"excessive heat\") & (storms_2021[\"state\"] == \"Idaho\")]"
   ]
  },
  {
   "cell_type": "code",
   "execution_count": null,
   "id": "70b41a17",
   "metadata": {},
   "outputs": [],
   "source": [
    "gb[(gb[\"event_type\"]==\"excessive heat\") & (gb[\"state\"] == \"Idaho\")]"
   ]
  },
  {
   "cell_type": "code",
   "execution_count": null,
   "id": "9933507f",
   "metadata": {},
   "outputs": [],
   "source": [
    "ax = sns.barplot(data=gb,x=\"event_type\",y=\"event_duration\")\n",
    "plt.xticks(rotation=90)\n",
    "plt.grid(color='grey', linestyle='--')\n",
    "fig = plt.gcf()\n",
    "fig.set_size_inches(15, 10)\n",
    "plt.show()"
   ]
  },
  {
   "cell_type": "code",
   "execution_count": null,
   "id": "5ac7ca5d",
   "metadata": {},
   "outputs": [],
   "source": [
    "top_events = list(gb.groupby(\"event_type\").agg({\n",
    "    \"event_duration\":np.mean\n",
    "}).reset_index().sort_values(by=\"event_duration\").iloc[-5:][\"event_type\"])"
   ]
  },
  {
   "cell_type": "code",
   "execution_count": null,
   "id": "701a42ad",
   "metadata": {},
   "outputs": [],
   "source": [
    "top_events"
   ]
  },
  {
   "cell_type": "markdown",
   "id": "a9f649aa",
   "metadata": {},
   "source": [
    "Drought and Wildfire had an average duration greater than 200 hours, while all other storms lasted for less than a 100 hours (~4 days). We now analyze their duration by state."
   ]
  },
  {
   "cell_type": "code",
   "execution_count": null,
   "id": "fe6368b3",
   "metadata": {},
   "outputs": [],
   "source": [
    "dat = gb[gb[\"event_type\"].isin(top_events[-2:])]\n",
    "ax = sns.boxplot(data=dat, y=\"state\",x=\"event_duration\",hue=\"event_type\", orient=\"h\")\n",
    "plt.xticks(rotation=90)\n",
    "plt.grid(color='grey', linestyle='--')\n",
    "fig = plt.gcf()\n",
    "fig.set_size_inches(15, 20)\n",
    "plt.show()"
   ]
  },
  {
   "cell_type": "markdown",
   "id": "e12a6893",
   "metadata": {},
   "source": [
    "Wildfire is an event type that can be controlled through human intervention. Drought, on the other hand, is a noatural calamity and very little can be done to control it. Therefore, it makes sense that in states where both occurred, the droughts lasted longer than the wildfire."
   ]
  },
  {
   "cell_type": "code",
   "execution_count": null,
   "id": "ba4f986c",
   "metadata": {},
   "outputs": [],
   "source": [
    "ax = sns.boxplot(data=gb[\n",
    "    (gb[\"event_type\"].isin(top_events[:-2])) & \n",
    "    (gb[\"event_duration\"]!=0)],\n",
    "                 y=\"state\",\n",
    "                 x=\"event_duration\",\n",
    "                 hue=\"event_type\",\n",
    "                 orient=\"h\")\n",
    "plt.xticks(rotation=90)\n",
    "plt.grid(color='grey', linestyle='--')\n",
    "ax.set_title(\"Storm Duration by State\")\n",
    "fig = plt.gcf()\n",
    "fig.set_size_inches(15, 20)\n",
    "plt.show()"
   ]
  },
  {
   "cell_type": "code",
   "execution_count": null,
   "id": "1e93673d",
   "metadata": {},
   "outputs": [],
   "source": [
    "gb_melt = pd.melt(gb[gb[\"event_type\"].isin(top_events)],\n",
    "                  id_vars = [\"event_type\", \"episode_id\", \"state\", \"event_duration\"], \n",
    "                  value_vars = [\"injuries_total\",\"deaths_total\"],\n",
    "                  ignore_index=False,\n",
    "                  var_name='casualty_type', value_name='value')\n",
    "\n"
   ]
  },
  {
   "cell_type": "code",
   "execution_count": null,
   "id": "25ec51fc",
   "metadata": {},
   "outputs": [],
   "source": [
    "gb_melt.loc[0]"
   ]
  },
  {
   "cell_type": "code",
   "execution_count": null,
   "id": "e8018703",
   "metadata": {},
   "outputs": [],
   "source": [
    "gb_melt[gb_melt[\"value\"]==np.max(gb_melt[\"value\"])]"
   ]
  },
  {
   "cell_type": "code",
   "execution_count": null,
   "id": "b4d2311c",
   "metadata": {},
   "outputs": [],
   "source": [
    "gb_melt[(gb_melt[\"event_type\"]==\"drought\") & (gb_melt[\"value\"]>0)]"
   ]
  },
  {
   "cell_type": "markdown",
   "id": "1fdf00eb",
   "metadata": {},
   "source": [
    "Less than one casualty was reported for most events. The maximum casualties were reported as 109 deaths, in Oregon due to excessive heat over 78 hours.\n"
   ]
  },
  {
   "cell_type": "code",
   "execution_count": null,
   "id": "d77bf7ae",
   "metadata": {},
   "outputs": [],
   "source": [
    "ax = sns.barplot(data=gb_melt,\n",
    "                 x=\"event_type\",y=\"value\",hue=\"casualty_type\",\n",
    "                 estimator=np.max, \n",
    "                 ci=None)\n",
    "plt.xticks(rotation=90)\n",
    "ax.set_title(\"Maximum Casualties per Storm Type\")\n",
    "plt.grid(color='grey', linestyle='--')\n",
    "fig = plt.gcf()\n",
    "fig.set_size_inches(15, 10)\n",
    "plt.show()"
   ]
  },
  {
   "cell_type": "markdown",
   "id": "c56411fe",
   "metadata": {},
   "source": [
    "While drought had the longest duration, most damage was caused by excessive heat."
   ]
  },
  {
   "cell_type": "markdown",
   "id": "616bba4a",
   "metadata": {},
   "source": [
    "# Which Zones took the Longest Hit?"
   ]
  },
  {
   "cell_type": "code",
   "execution_count": null,
   "id": "3a6bf9bc",
   "metadata": {},
   "outputs": [],
   "source": [
    "storms_2021[(storms_2021[\"cz_type\"]==\"Z\")].shape"
   ]
  },
  {
   "cell_type": "code",
   "execution_count": null,
   "id": "4e86843e",
   "metadata": {},
   "outputs": [],
   "source": [
    "forecast_regions.head()"
   ]
  },
  {
   "cell_type": "code",
   "execution_count": null,
   "id": "93401d50",
   "metadata": {},
   "outputs": [],
   "source": [
    "storms_combos = storms_2021[\n",
    "    [\"state\",\"cz_fips_code\",\"episode_id\"]\n",
    "].groupby([\"state\",\"cz_fips_code\"],as_index=False).count()[\n",
    "    [\"state\",\"cz_fips_code\"]].to_records(index=False)"
   ]
  },
  {
   "cell_type": "code",
   "execution_count": null,
   "id": "31992f74",
   "metadata": {},
   "outputs": [],
   "source": [
    "storms_combos = set((x,y) for (x,y) in storms_combos)"
   ]
  },
  {
   "cell_type": "code",
   "execution_count": null,
   "id": "2b610269",
   "metadata": {},
   "outputs": [],
   "source": [
    "forecast_regions.head()"
   ]
  },
  {
   "cell_type": "code",
   "execution_count": null,
   "id": "c1d75c94",
   "metadata": {},
   "outputs": [],
   "source": [
    "regions_combos = set( (x,y) for (x,y) in forecast_regions[[\"state_name\",\"zone\"]].to_records(index=False))"
   ]
  },
  {
   "cell_type": "code",
   "execution_count": null,
   "id": "1f4e6cbf",
   "metadata": {},
   "outputs": [],
   "source": [
    "len(storms_combos.intersection(regions_combos))"
   ]
  },
  {
   "cell_type": "code",
   "execution_count": null,
   "id": "91eafa55",
   "metadata": {},
   "outputs": [],
   "source": [
    "tmp = forecast_regions[[\"state_name\",\"type\",\"zone\",\"shape_geometry\"]].groupby([\"state_name\",\"type\",\"zone\"]).count()\n",
    "tmp[tmp[\"shape_geometry\"] > 1]"
   ]
  },
  {
   "cell_type": "code",
   "execution_count": null,
   "id": "3a057e80",
   "metadata": {},
   "outputs": [],
   "source": [
    "forecast_regions[(forecast_regions[\"state_name\"] == \"micronesia\") &\n",
    "                (forecast_regions[\"type\"] == \"C\") &\n",
    "                (forecast_regions[\"zone\"] == 1)]"
   ]
  },
  {
   "cell_type": "code",
   "execution_count": null,
   "id": "141cbfa1",
   "metadata": {},
   "outputs": [],
   "source": [
    "merged = storms_2021[storms_2021[\"cz_type\"]==\"Z\"][[\n",
    "    \"episode_id\", \"event_id\", \"state\", \"state_fips_code\",\n",
    "    \"event_type\", \"cz_fips_code\", \"cz_name\", \"cz_type\",\n",
    "    \"event_begin_time_utc\", \"event_end_time_utc\",\n",
    "    \"injuries_direct\", \"injuries_indirect\", \"injuries_total\",\n",
    "    \"deaths_direct\", \"deaths_indirect\", \"deaths_total\",\n",
    "    \"damage_property\", \"damage_crops\",\n",
    "    \"event_duration\"\n",
    "]].merge(forecast_regions[forecast_regions[\"type\"]==\"Z\"][[\n",
    "    \"state\",\"state_name\",\"zone\",\"type\",\"name\",\"shape_geometry\"\n",
    "]],left_on=[\"state\", \"cz_type\",\"cz_fips_code\"],\n",
    "         right_on=[\"state_name\",\"type\",\"zone\"],\n",
    "        validate=\"m:1\")\n",
    "merged.head()"
   ]
  },
  {
   "cell_type": "code",
   "execution_count": null,
   "id": "a3db687e",
   "metadata": {},
   "outputs": [],
   "source": [
    "merged.shape"
   ]
  },
  {
   "cell_type": "code",
   "execution_count": null,
   "id": "758706a2",
   "metadata": {},
   "outputs": [],
   "source": [
    "storms_2021[\n",
    "    (storms_2021[\"state\"]==\"california\") &\n",
    "    (storms_2021[\"cz_type\"]==\"Z\") &\n",
    "    (storms_2021[\"cz_fips_code\"] == 304)\n",
    "]"
   ]
  },
  {
   "cell_type": "code",
   "execution_count": null,
   "id": "db8804ea",
   "metadata": {},
   "outputs": [],
   "source": [
    "forecast_regions[(forecast_regions[\"state_name\"] == \"california\") & \n",
    "                 (forecast_regions[\"type\"] == \"Z\") &\n",
    "                 (forecast_regions[\"zone\"]==304)]"
   ]
  },
  {
   "cell_type": "code",
   "execution_count": null,
   "id": "93dfd049",
   "metadata": {},
   "outputs": [],
   "source": [
    "merged[(merged[\"name\"].isna()) & (merged[\"state_x\"]==\"california\")]"
   ]
  },
  {
   "cell_type": "code",
   "execution_count": null,
   "id": "608d491d",
   "metadata": {},
   "outputs": [],
   "source": [
    "merged_gb = merged[\n",
    "    [\"episode_id\" ,\"state_name\", \"event_type\",\n",
    "    \"zone\", \"name\", \"event_duration\",\n",
    "     \"shape_geometry\",\n",
    "    \"injuries_total\",\n",
    "    \"deaths_total\",\n",
    "    \"damage_property\",\n",
    "    \"damage_crops\"]\n",
    "].groupby([\"event_type\", \"state_name\",\"zone\"]).agg({\n",
    "    \"episode_id\":lambda x:len(x.unique()),\n",
    "    \"name\": lambda x:x.iloc[0],\n",
    "    \"event_duration\": lambda x:np.mean(x),\n",
    "    \"shape_geometry\": lambda x:x.iloc[0],\n",
    "    \"injuries_total\": lambda x:x.sum(),\n",
    "    \"deaths_total\": lambda x:x.sum(),\n",
    "    \"damage_property\": lambda x:x.dropna().sum(),\n",
    "    \"damage_crops\": lambda x:x.dropna().sum()\n",
    "    \n",
    "})\n",
    "merged_gb.shape"
   ]
  },
  {
   "cell_type": "code",
   "execution_count": null,
   "id": "e0b5f069",
   "metadata": {},
   "outputs": [],
   "source": [
    "merged_gb.rename(columns={\"episode_id\":\"count_episodes\",\n",
    "                 \"event_duration\":\"mean_event_duration\"}, inplace=True)"
   ]
  },
  {
   "cell_type": "code",
   "execution_count": null,
   "id": "ae1a7bc8",
   "metadata": {},
   "outputs": [],
   "source": [
    "merged_gb.head()"
   ]
  },
  {
   "cell_type": "code",
   "execution_count": null,
   "id": "6aa3a532",
   "metadata": {},
   "outputs": [],
   "source": [
    "\n",
    "merged_gb_geo = gp.GeoDataFrame(merged_gb, geometry=\"shape_geometry\", crs=\"EPSG:4326\")\n",
    "merged_gb_geo.crs"
   ]
  },
  {
   "cell_type": "code",
   "execution_count": null,
   "id": "9818d2d7",
   "metadata": {},
   "outputs": [],
   "source": [
    "merged_gb_geo.loc[(slice(None),\"south carolina\",slice(None)),:]"
   ]
  },
  {
   "cell_type": "code",
   "execution_count": null,
   "id": "d99995a9",
   "metadata": {},
   "outputs": [],
   "source": [
    "event_type_name = \"excessive heat\"\n",
    "color_by = \"injuries_total\" #\"mean_event_duration\""
   ]
  },
  {
   "cell_type": "code",
   "execution_count": null,
   "id": "3fb11314",
   "metadata": {},
   "outputs": [],
   "source": [
    "# [37.0902,-95.7129]\n",
    "m=folium.Map(max_bounds=True)\n",
    "sw = forecast_regions[['lat', 'lon']].min().values.tolist()\n",
    "ne = forecast_regions[['lat', 'lon']].max().values.tolist()\n",
    "# m.fit_bounds([sw,ne])\n",
    "for _, r in forecast_regions.iterrows():\n",
    "    sim_geo = gp.GeoSeries(r['shape_geometry']).simplify(tolerance=0.001)\n",
    "    geo_j = sim_geo.to_json()\n",
    "    geo_j = folium.GeoJson(data=geo_j,\n",
    "                           style_function=lambda x: {'color':'black', 'weight':0.5})\n",
    "#     folium.Popup(r['BoroName']).add_to(geo_j)\n",
    "    geo_j.add_to(m)\n",
    "m = merged_gb_geo.loc[(event_type_name,slice(None)),:].explore(column=color_by, m=m)"
   ]
  },
  {
   "cell_type": "code",
   "execution_count": null,
   "id": "43e57b92",
   "metadata": {},
   "outputs": [],
   "source": [
    "m"
   ]
  },
  {
   "cell_type": "markdown",
   "id": "28fcc835",
   "metadata": {},
   "source": [
    "Interesting Observations:\n",
    "- The duration of drought in New Mexico appears significantly higher than that of any other state. Lets compare New Mexico to a few other randomly chosen states.\n",
    "- A maximum of 88 deaths were recorded in the \"greater portland metro area\", over 2 episodes of excessive heat. The neighbouring zone of \"central willamette valley\" also saw 19 deaths.\n",
    "- 45 injuries due to excessive heat were reported in Tulsa over 5 episodes, while a single episode caused 9 injuries in St. Louis"
   ]
  },
  {
   "cell_type": "markdown",
   "id": "be9ba29b",
   "metadata": {},
   "source": [
    "## Drought In 2019"
   ]
  },
  {
   "cell_type": "code",
   "execution_count": null,
   "id": "a65c802c",
   "metadata": {},
   "outputs": [],
   "source": [
    "dt = storms_2021[storms_2021[\"event_type\"]==\"drought\"]\n",
    "dt.head()"
   ]
  },
  {
   "cell_type": "code",
   "execution_count": null,
   "id": "eea54337",
   "metadata": {},
   "outputs": [],
   "source": [
    "ax = sns.displot(dt,x=\"event_duration\",hue=\"episode_id\", legend=None)\n",
    "plt.grid(color='grey', linestyle='--')\n",
    "fig = plt.gcf()\n",
    "fig.set_size_inches(15, 10)\n",
    "plt.show()"
   ]
  },
  {
   "cell_type": "code",
   "execution_count": null,
   "id": "3831cb45",
   "metadata": {},
   "outputs": [],
   "source": [
    "ax = sns.displot(dt,x=\"event_duration\",hue=\"state\")\n",
    "plt.grid(color='grey', linestyle='--')\n",
    "fig = plt.gcf()\n",
    "fig.set_size_inches(15, 10)\n",
    "plt.show()"
   ]
  },
  {
   "cell_type": "markdown",
   "id": "74574ea9",
   "metadata": {},
   "source": [
    "### New Mexico vs Random Subset"
   ]
  },
  {
   "cell_type": "code",
   "execution_count": null,
   "id": "923321ad",
   "metadata": {},
   "outputs": [],
   "source": [
    "states = list(dt[dt[\"state\"]!=\"New mexico\"][\"state\"].unique())"
   ]
  },
  {
   "cell_type": "code",
   "execution_count": null,
   "id": "3a097f85",
   "metadata": {},
   "outputs": [],
   "source": [
    "import random\n",
    "ax = sns.displot(dt[dt[\"state\"].isin([\"New mexico\"]+random.sample(states,5))],x=\"event_duration\",hue=\"state\")\n",
    "plt.grid(color='grey', linestyle='--')\n",
    "fig = plt.gcf()\n",
    "fig.set_size_inches(15, 10)\n",
    "plt.show()"
   ]
  },
  {
   "cell_type": "markdown",
   "id": "f45c4ba0",
   "metadata": {},
   "source": [
    "### Analysing duration of different episodes of drought in New Mexico"
   ]
  },
  {
   "cell_type": "code",
   "execution_count": null,
   "id": "04622d94",
   "metadata": {},
   "outputs": [],
   "source": [
    "dt_nm = dt[dt[\"state\"]==\"New mexico\"]"
   ]
  },
  {
   "cell_type": "code",
   "execution_count": null,
   "id": "f2f5a360",
   "metadata": {},
   "outputs": [],
   "source": [
    "print(dt_nm.shape)\n",
    "dt_nm.head()"
   ]
  },
  {
   "cell_type": "code",
   "execution_count": null,
   "id": "14fe25eb",
   "metadata": {},
   "outputs": [],
   "source": [
    "len(dt_nm[\"episode_id\"].unique())"
   ]
  },
  {
   "cell_type": "markdown",
   "id": "5fbabfcd",
   "metadata": {},
   "source": [
    "There were 22 episodes of drought reported in New Mexico in 2021"
   ]
  },
  {
   "cell_type": "code",
   "execution_count": null,
   "id": "63a9bdea",
   "metadata": {},
   "outputs": [],
   "source": [
    "dt_nm"
   ]
  },
  {
   "cell_type": "markdown",
   "id": "9bc13a12",
   "metadata": {},
   "source": [
    "# Per Episode Analysis"
   ]
  },
  {
   "cell_type": "markdown",
   "id": "8e77848e",
   "metadata": {},
   "source": [
    "- Which zones suffered the most storm episodes in 2021 (in general)?\n",
    "- What is the average number of zones spanned by an episode?\n",
    "- Casualties per episode"
   ]
  },
  {
   "cell_type": "code",
   "execution_count": null,
   "id": "1a5c4390",
   "metadata": {
    "scrolled": true
   },
   "outputs": [],
   "source": [
    "storms_2021[(storms_2021[\"cz_fips_code\"] == 1) & (storms_2021[\"state\"] == \"south carolina\")]"
   ]
  },
  {
   "cell_type": "code",
   "execution_count": null,
   "id": "2736b325",
   "metadata": {},
   "outputs": [],
   "source": [
    "forecast_regions[(forecast_regions[\"state_name\"] == \"south carolina\") & (forecast_regions[\"zone\"] == 1)]"
   ]
  },
  {
   "cell_type": "code",
   "execution_count": null,
   "id": "23bb21a7",
   "metadata": {},
   "outputs": [],
   "source": [
    "forecast_regions[(forecast_regions[\"name\"] == \"abbeville\")] "
   ]
  },
  {
   "cell_type": "code",
   "execution_count": null,
   "id": "e087cbba",
   "metadata": {},
   "outputs": [],
   "source": [
    "zones_gb = storms_2021[[\"state\",\"cz_fips_code\", \"cz_name\", \"episode_id\"]].groupby(\"cz_name\", as_index=False).agg(\n",
    "{\n",
    "    \"state\": lambda x:x.iloc[0],\n",
    "    \"cz_fips_code\": lambda x:x.iloc[0],\n",
    "    \"episode_id\": lambda x:len(x.unique())\n",
    "})"
   ]
  },
  {
   "cell_type": "code",
   "execution_count": null,
   "id": "00cc2250",
   "metadata": {},
   "outputs": [],
   "source": [
    "zones_gb"
   ]
  },
  {
   "cell_type": "code",
   "execution_count": null,
   "id": "65d87ebe",
   "metadata": {},
   "outputs": [],
   "source": [
    "zones_gb[zones_gb[\"cz_name\"] == \"abbeville\"]"
   ]
  },
  {
   "cell_type": "code",
   "execution_count": null,
   "id": "efab5239",
   "metadata": {},
   "outputs": [],
   "source": [
    "excluded"
   ]
  },
  {
   "cell_type": "code",
   "execution_count": null,
   "id": "525eb595",
   "metadata": {},
   "outputs": [],
   "source": [
    "# Remove \"zones\" for which we do not have geometry.\n",
    "\n",
    "zones_with_geom = zones_gb.merge(forecast_regions[[\n",
    "    \"state\",\"state_name\",\"zone\",\"name\",\"shape_geometry\"\n",
    "]],left_on=[\"state\",\"cz_fips_code\"],\n",
    "         right_on=[\"state_name\",\"zone\"])\n",
    "\n",
    "zones_with_geom.head()"
   ]
  },
  {
   "cell_type": "code",
   "execution_count": null,
   "id": "95782257",
   "metadata": {},
   "outputs": [],
   "source": [
    "def transform_df(df):\n",
    "#     print(df)\n",
    "#     input()\n",
    "    df[\"event_id\"] = len(df[\"event_id\"])\n",
    "    df[\"injuries_total\"] = np.sum(df[\"injuries_total\"])\n",
    "    df[\"deaths_total\"] = np.sum(df[\"deaths_total\"])\n",
    "    return df"
   ]
  },
  {
   "cell_type": "code",
   "execution_count": null,
   "id": "c877dbaa",
   "metadata": {},
   "outputs": [],
   "source": [
    "gb_event_2021 = storms_2021[\n",
    "    [\"episode_id\",\"event_id\",\"event_type\",\"state\",\"cz_name\",\"cz_fips_code\",\n",
    "    \"injuries_total\", \"deaths_total\"]\n",
    "].groupby(\"episode_id\").apply(transform_df)\n",
    "\n",
    "#  {\n",
    "#         \"event_type\": lambda x:x.iloc[0],\n",
    "#         \"event_id\": \"count\",\n",
    "#         \"state\": lambda x:list(x.unique()),\n",
    "#         \"cz_name\": lambda x:list(x.unique()),\n",
    "#         \"cz_fips_code\": lambda x:list(x.unique()),\n",
    "#         \"injuries_total\": \"sum\",\n",
    "#         \"deaths_total\": \"sum\"\n",
    "#     }\n",
    "\n",
    "gb_event_2021.rename(columns={\"event_id\":\"count_reported\",\n",
    "                             \"cz_name\":\"zones\",\n",
    "                             \"cz_fips_code\":\"zones_fips_code\"},inplace=True)"
   ]
  },
  {
   "cell_type": "code",
   "execution_count": null,
   "id": "35788445",
   "metadata": {},
   "outputs": [],
   "source": [
    "print(gb_event_2021.shape)\n",
    "gb_event_2021.head(7)"
   ]
  },
  {
   "cell_type": "markdown",
   "id": "ee1e9e06",
   "metadata": {},
   "source": [
    "8378 storm episodes were reported in 2021"
   ]
  },
  {
   "cell_type": "code",
   "execution_count": null,
   "id": "ee20d764",
   "metadata": {},
   "outputs": [],
   "source": [
    "ax = sns.countplot(x=\"event_type\", data=storms_2021)\n",
    "plt.xticks(rotation=90)\n",
    "fig = plt.gcf()\n",
    "fig.set_size_inches(18.5, 10.5)\n",
    "plt.show()"
   ]
  },
  {
   "cell_type": "markdown",
   "id": "66a753a8",
   "metadata": {},
   "source": [
    "\"Thunderstorm wind\" had the largest number of episodes reported."
   ]
  },
  {
   "cell_type": "code",
   "execution_count": null,
   "id": "dc6dd622",
   "metadata": {},
   "outputs": [],
   "source": []
  }
 ],
 "metadata": {
  "kernelspec": {
   "display_name": "Python 3 (ipykernel)",
   "language": "python",
   "name": "python3"
  },
  "language_info": {
   "codemirror_mode": {
    "name": "ipython",
    "version": 3
   },
   "file_extension": ".py",
   "mimetype": "text/x-python",
   "name": "python",
   "nbconvert_exporter": "python",
   "pygments_lexer": "ipython3",
   "version": "3.9.10"
  }
 },
 "nbformat": 4,
 "nbformat_minor": 5
}
